{
  "nbformat": 4,
  "nbformat_minor": 0,
  "metadata": {
    "colab": {
      "name": "PCA.ipynb",
      "version": "0.3.2",
      "provenance": [],
      "collapsed_sections": [],
      "include_colab_link": true
    },
    "kernelspec": {
      "name": "python3",
      "display_name": "Python 3"
    },
    "accelerator": "GPU"
  },
  "cells": [
    {
      "cell_type": "markdown",
      "metadata": {
        "id": "view-in-github",
        "colab_type": "text"
      },
      "source": [
        "<a href=\"https://colab.research.google.com/github/sjdee/Market-Analysis-Techniques/blob/master/PCA.ipynb\" target=\"_parent\"><img src=\"https://colab.research.google.com/assets/colab-badge.svg\" alt=\"Open In Colab\"/></a>"
      ]
    },
    {
      "cell_type": "markdown",
      "metadata": {
        "id": "glkGNj-eB2J8",
        "colab_type": "text"
      },
      "source": [
        "# Import Data"
      ]
    },
    {
      "cell_type": "code",
      "metadata": {
        "id": "Nr_8Nc0C4EE6",
        "colab_type": "code",
        "colab": {}
      },
      "source": [
        "# https://www.datacamp.com/community/tutorials/feature-selection-python\n",
        "# https://www.kaggle.com/dkim1992/feature-selection-ranking\n",
        "\n",
        "!pip install -U -q PyDrive\n",
        "\n",
        "from pydrive.auth import GoogleAuth\n",
        "from pydrive.drive import GoogleDrive\n",
        "from google.colab import auth\n",
        "from oauth2client.client import GoogleCredentials\n",
        "\n",
        "# 1. Authenticate and create the PyDrive client.\n",
        "auth.authenticate_user()\n",
        "gauth = GoogleAuth()\n",
        "gauth.credentials = GoogleCredentials.get_application_default()\n",
        "drive = GoogleDrive(gauth)\n",
        "\n",
        "file_id = '18pa4iuqvz2SX5RYrUdn09bDU8eNm2hqI'\n",
        "\n",
        "# 2. Load a file by ID \n",
        "downloaded = drive.CreateFile({'id': file_id})\n",
        "downloaded.GetContentFile('sp500_transformation_input.xlsx')"
      ],
      "execution_count": 0,
      "outputs": []
    },
    {
      "cell_type": "code",
      "metadata": {
        "id": "YzFeVZ864NQx",
        "colab_type": "code",
        "colab": {}
      },
      "source": [
        "import pandas as pd\n",
        "\n",
        "df = pd.read_excel('sp500_transformation_input.xlsx')"
      ],
      "execution_count": 0,
      "outputs": []
    },
    {
      "cell_type": "code",
      "metadata": {
        "id": "CidL6D6B4PPa",
        "colab_type": "code",
        "colab": {}
      },
      "source": [
        "deletedDf = df.dropna()\n",
        "# deletedDf = df.drop([\"change_5day\",\"change_10day\"], axis=1)\n",
        "\n",
        "# df_null_removed = df.dropna()\n",
        "\n",
        "# df_roa_removed = df.drop(\"RETURN_ON_ASSET\", axis=1)\n",
        "\n",
        "# print(df.describe())"
      ],
      "execution_count": 0,
      "outputs": []
    },
    {
      "cell_type": "markdown",
      "metadata": {
        "id": "34-S7sZoCHtI",
        "colab_type": "text"
      },
      "source": [
        "# Process Data"
      ]
    },
    {
      "cell_type": "markdown",
      "metadata": {
        "id": "JRs9FXayB-FT",
        "colab_type": "text"
      },
      "source": [
        "Scale data in features from [0,1]"
      ]
    },
    {
      "cell_type": "code",
      "metadata": {
        "id": "w5Cl8w_e5rI2",
        "colab_type": "code",
        "colab": {}
      },
      "source": [
        "from sklearn.preprocessing import MinMaxScaler\n",
        "\n",
        "features = deletedDf.iloc[:,6:-10]\n",
        "labels = deletedDf.iloc[:,-10:]\n",
        "\n",
        "# Scaling values in the feature set\n",
        "scaling = MinMaxScaler(feature_range=(0,1)).fit(features)\n",
        "features_scaled = pd.DataFrame(scaling.transform(features),columns = features.columns) \n",
        "# features_scaled"
      ],
      "execution_count": 0,
      "outputs": []
    },
    {
      "cell_type": "code",
      "metadata": {
        "id": "D7aP7Qpl7PXh",
        "colab_type": "code",
        "outputId": "bf391a9e-1ed3-4f67-a583-48a665e7b5ef",
        "colab": {
          "base_uri": "https://localhost:8080/",
          "height": 553
        }
      },
      "source": [
        "import numpy as np\n",
        "np.isnan(features_scaled).any()"
      ],
      "execution_count": 0,
      "outputs": [
        {
          "output_type": "execute_result",
          "data": {
            "text/plain": [
              "PX_VOLUME                    False\n",
              "PX_OFFICIAL_CLOSE            False\n",
              "CUR_MKT_CAP                  False\n",
              "HISTORICAL_MARKET_CAP        False\n",
              "PE_RATIO                     False\n",
              "PX_TO_BOOK_RATIO             False\n",
              "SHORT_INT_RATIO              False\n",
              "SHORT_INT                    False\n",
              "RETURN_ON_ASSET              False\n",
              "TOT_ANALYST_REC              False\n",
              "TOT_BUY_REC                  False\n",
              "TOT_SELL_REC                 False\n",
              "TOT_HOLD_REC                 False\n",
              "EQY_REC_CONS                 False\n",
              "BEST_ANALYST_RATING          False\n",
              "BEST_EPS                     False\n",
              "BEST_EPS_LO                  False\n",
              "BEST_EPS_HI                  False\n",
              "BEST_CAPEX                   False\n",
              "BEST_CAPEX_LO                False\n",
              "BEST_CAPEX_HI                False\n",
              "BEST_EST_LONG_TERM_GROWTH    False\n",
              "BEST_TARGET_PRICE            False\n",
              "hold_percent                 False\n",
              "buy_percent                  False\n",
              "sell_percent                 False\n",
              "std_5day                     False\n",
              "std_10day                    False\n",
              "change_5day                  False\n",
              "change_10day                 False\n",
              "dtype: bool"
            ]
          },
          "metadata": {
            "tags": []
          },
          "execution_count": 5
        }
      ]
    },
    {
      "cell_type": "markdown",
      "metadata": {
        "id": "WX04gfkLCfgl",
        "colab_type": "text"
      },
      "source": [
        "# Perform PCA"
      ]
    },
    {
      "cell_type": "markdown",
      "metadata": {
        "id": "11wU6HH8CMV7",
        "colab_type": "text"
      },
      "source": [
        "Check how many components make up for at at least 99% of variance in data (15 in this case)"
      ]
    },
    {
      "cell_type": "code",
      "metadata": {
        "id": "1sylNqzG7Ft3",
        "colab_type": "code",
        "outputId": "525301c6-c115-4fe3-83c2-69ce71a237c8",
        "colab": {
          "base_uri": "https://localhost:8080/",
          "height": 399
        }
      },
      "source": [
        "from sklearn.decomposition import PCA\n",
        "import matplotlib.pyplot as plt\n",
        "\n",
        "pca = PCA().fit(features_scaled)\n",
        "#Plotting the Cumulative Summation of the Explained Variance\n",
        "plt.figure()\n",
        "plt.plot(np.cumsum(pca.explained_variance_ratio_))\n",
        "plt.xlabel('Number of Components')\n",
        "plt.ylabel('Variance (%)') #for each component\n",
        "plt.title('S&P500 Dataset Variance')\n",
        "plt.show()\n",
        "\n",
        "print(\"Values for Variance\")\n",
        "print(np.cumsum(pca.explained_variance_ratio_))"
      ],
      "execution_count": 0,
      "outputs": [
        {
          "output_type": "display_data",
          "data": {
            "image/png": "[encoded data removed]",
            "text/plain": [
              "<Figure size 432x288 with 1 Axes>"
            ]
          },
          "metadata": {
            "tags": []
          }
        },
        {
          "output_type": "stream",
          "text": [
            "Values for Variance\n",
            "[0.50843434 0.66349936 0.75920871 0.83941254 0.89378754 0.91430698\n",
            " 0.93097247 0.94663406 0.95561364 0.9645241  0.97226398 0.97906992\n",
            " 0.98489688 0.98964435 0.99280958 0.99449914 0.99594374 0.99718532\n",
            " 0.99830614 0.99895013 0.99937625 0.99960127 0.99973578 0.99986475\n",
            " 0.99991641 0.99996386 1.         1.         1.         1.        ]\n"
          ],
          "name": "stdout"
        }
      ]
    },
    {
      "cell_type": "markdown",
      "metadata": {
        "id": "nkJWncwoC24G",
        "colab_type": "text"
      },
      "source": [
        ""
      ]
    },
    {
      "cell_type": "code",
      "metadata": {
        "id": "aeJAYkwv88bL",
        "colab_type": "code",
        "colab": {}
      },
      "source": [
        "import pandas as pd\n",
        "\n",
        "pca = PCA(n_components=15)\n",
        "dataset = pca.fit_transform(features_scaled)\n",
        "components = pd.DataFrame(pca.components_,columns=features_scaled.columns,index = ['PC-1','PC-2','PC-3','PC-4','PC-5','PC-6','PC-7','PC-8','PC-9','PC-10','PC-11','PC-12','PC-13','PC-14','PC-15'])\n",
        "\n",
        "\n",
        "components = round(components,2)\n",
        "components\n",
        "components.to_csv(\"Components.csv\")\n"
      ],
      "execution_count": 0,
      "outputs": []
    },
    {
      "cell_type": "code",
      "metadata": {
        "id": "oyUxbNTG_Zfj",
        "colab_type": "code",
        "outputId": "0491fe77-2261-4af6-e2ef-ce591195e0aa",
        "colab": {
          "base_uri": "https://localhost:8080/",
          "height": 1658
        }
      },
      "source": [
        "import pandas as pd\n",
        "import operator \n",
        "\n",
        "\n",
        "df = pd.DataFrame(index=features_scaled.columns,columns=['Occurence','WeightedOccurence','OldWeightedOccurence'])  \n",
        "df.loc[:,'Occurence']=0\n",
        "df.loc[:,'WeightedOccurence']=0\n",
        "df.loc[:,'OldWeightedOccurence']=0\n",
        "\n",
        "for i in range(6):\n",
        "  print(\"for PC\",i+1)\n",
        "  for k in range(30):\n",
        "    if(abs(pca.components_[i,k])>=0.1):\n",
        "      print(features_scaled.columns[k])\n",
        "      df.loc[features_scaled.columns[k],\"Occurence\"] = df.loc[features_scaled.columns[k],\"Occurence\"] + 1\n",
        "      df.loc[features_scaled.columns[k],\"WeightedOccurence\"] = df.loc[features_scaled.columns[k],\"WeightedOccurence\"] + 6-i\n",
        "      df.loc[features_scaled.columns[k],\"OldWeightedOccurence\"] = df.loc[features_scaled.columns[k],\"OldWeightedOccurence\"] + i+1\n",
        "  print()\n",
        "\n",
        "  \n",
        "df = df.sort_values(by=['WeightedOccurence', 'Occurence'], ascending=False)   \n",
        "print(df)\n",
        "df.to_csv(\"Feature Contribution.csv\")\n",
        "\n",
        "\n"
      ],
      "execution_count": 0,
      "outputs": [
        {
          "output_type": "stream",
          "text": [
            "for PC 1\n",
            "TOT_BUY_REC\n",
            "TOT_SELL_REC\n",
            "TOT_HOLD_REC\n",
            "EQY_REC_CONS\n",
            "BEST_ANALYST_RATING\n",
            "hold_percent\n",
            "buy_percent\n",
            "sell_percent\n",
            "\n",
            "for PC 2\n",
            "PX_OFFICIAL_CLOSE\n",
            "CUR_MKT_CAP\n",
            "HISTORICAL_MARKET_CAP\n",
            "TOT_ANALYST_REC\n",
            "TOT_BUY_REC\n",
            "TOT_SELL_REC\n",
            "TOT_HOLD_REC\n",
            "BEST_EPS\n",
            "BEST_EPS_LO\n",
            "BEST_EPS_HI\n",
            "BEST_CAPEX\n",
            "BEST_CAPEX_LO\n",
            "BEST_CAPEX_HI\n",
            "BEST_TARGET_PRICE\n",
            "\n",
            "for PC 3\n",
            "PX_OFFICIAL_CLOSE\n",
            "SHORT_INT\n",
            "TOT_ANALYST_REC\n",
            "TOT_BUY_REC\n",
            "TOT_HOLD_REC\n",
            "BEST_EPS\n",
            "BEST_EPS_LO\n",
            "BEST_EPS_HI\n",
            "BEST_TARGET_PRICE\n",
            "\n",
            "for PC 4\n",
            "TOT_SELL_REC\n",
            "TOT_HOLD_REC\n",
            "EQY_REC_CONS\n",
            "BEST_ANALYST_RATING\n",
            "hold_percent\n",
            "sell_percent\n",
            "\n",
            "for PC 5\n",
            "CUR_MKT_CAP\n",
            "HISTORICAL_MARKET_CAP\n",
            "TOT_ANALYST_REC\n",
            "TOT_BUY_REC\n",
            "TOT_SELL_REC\n",
            "TOT_HOLD_REC\n",
            "BEST_CAPEX\n",
            "BEST_CAPEX_LO\n",
            "BEST_CAPEX_HI\n",
            "hold_percent\n",
            "sell_percent\n",
            "\n",
            "for PC 6\n",
            "SHORT_INT_RATIO\n",
            "SHORT_INT\n",
            "RETURN_ON_ASSET\n",
            "BEST_TARGET_PRICE\n",
            "\n",
            "                           Occurence  WeightedOccurence  OldWeightedOccurence\n",
            "TOT_HOLD_REC                       5                 20                    15\n",
            "TOT_BUY_REC                        4                 17                    11\n",
            "TOT_SELL_REC                       4                 16                    12\n",
            "TOT_ANALYST_REC                    3                 11                    10\n",
            "hold_percent                       3                 11                    10\n",
            "sell_percent                       3                 11                    10\n",
            "BEST_TARGET_PRICE                  3                 10                    11\n",
            "PX_OFFICIAL_CLOSE                  2                  9                     5\n",
            "EQY_REC_CONS                       2                  9                     5\n",
            "BEST_ANALYST_RATING                2                  9                     5\n",
            "BEST_EPS                           2                  9                     5\n",
            "BEST_EPS_LO                        2                  9                     5\n",
            "BEST_EPS_HI                        2                  9                     5\n",
            "CUR_MKT_CAP                        2                  7                     7\n",
            "HISTORICAL_MARKET_CAP              2                  7                     7\n",
            "BEST_CAPEX                         2                  7                     7\n",
            "BEST_CAPEX_LO                      2                  7                     7\n",
            "BEST_CAPEX_HI                      2                  7                     7\n",
            "buy_percent                        1                  6                     1\n",
            "SHORT_INT                          2                  5                     9\n",
            "SHORT_INT_RATIO                    1                  1                     6\n",
            "RETURN_ON_ASSET                    1                  1                     6\n",
            "PX_VOLUME                          0                  0                     0\n",
            "PE_RATIO                           0                  0                     0\n",
            "PX_TO_BOOK_RATIO                   0                  0                     0\n",
            "BEST_EST_LONG_TERM_GROWTH          0                  0                     0\n",
            "std_5day                           0                  0                     0\n",
            "std_10day                          0                  0                     0\n",
            "change_5day                        0                  0                     0\n",
            "change_10day                       0                  0                     0\n"
          ],
          "name": "stdout"
        }
      ]
    },
    {
      "cell_type": "code",
      "metadata": {
        "id": "Z3AAk84ZMRbW",
        "colab_type": "code",
        "outputId": "fdb9d803-a0a6-4c64-fa3d-0496fe3ee592",
        "colab": {
          "base_uri": "https://localhost:8080/",
          "height": 535
        }
      },
      "source": [
        "df.index.tolist()"
      ],
      "execution_count": 0,
      "outputs": [
        {
          "output_type": "execute_result",
          "data": {
            "text/plain": [
              "['TOT_HOLD_REC',\n",
              " 'TOT_SELL_REC',\n",
              " 'TOT_BUY_REC',\n",
              " 'BEST_TARGET_PRICE',\n",
              " 'TOT_ANALYST_REC',\n",
              " 'hold_percent',\n",
              " 'sell_percent',\n",
              " 'SHORT_INT',\n",
              " 'CUR_MKT_CAP',\n",
              " 'HISTORICAL_MARKET_CAP',\n",
              " 'BEST_CAPEX',\n",
              " 'BEST_CAPEX_LO',\n",
              " 'BEST_CAPEX_HI',\n",
              " 'SHORT_INT_RATIO',\n",
              " 'RETURN_ON_ASSET',\n",
              " 'PX_OFFICIAL_CLOSE',\n",
              " 'EQY_REC_CONS',\n",
              " 'BEST_ANALYST_RATING',\n",
              " 'BEST_EPS',\n",
              " 'BEST_EPS_LO',\n",
              " 'BEST_EPS_HI',\n",
              " 'buy_percent',\n",
              " 'PX_VOLUME',\n",
              " 'PE_RATIO',\n",
              " 'PX_TO_BOOK_RATIO',\n",
              " 'BEST_EST_LONG_TERM_GROWTH',\n",
              " 'std_5day',\n",
              " 'std_10day',\n",
              " 'change_5day',\n",
              " 'change_10day']"
            ]
          },
          "metadata": {
            "tags": []
          },
          "execution_count": 40
        }
      ]
    },
    {
      "cell_type": "code",
      "metadata": {
        "id": "qZlIj55ht5Ef",
        "colab_type": "code",
        "colab": {}
      },
      "source": [
        "[(30, 'TOT_SELL_REC'), (29, 'sell_percent'), (28, 'TOT_BUY_REC'), (27, 'TOT_HOLD_REC'), (26, 'BEST_CAPEX_LO'), (25, 'TOT_ANALYST_REC'), (24, 'BEST_CAPEX_HI'), (23, 'BEST_EPS_HI'), (22, 'buy_percent'), (21, 'BEST_EPS_LO'), (20, 'BEST_CAPEX'), (19, 'EQY_REC_CONS'), (18, 'HISTORICAL_MARKET_CAP'), (17, 'RETURN_ON_ASSET'), (16, 'hold_percent'), (15, 'BEST_EST_LONG_TERM_GROWTH'), (14, 'change_5day'), (13, 'BEST_ANALYST_RATING'), (12, 'PX_VOLUME'), (11, 'std_5day'), (10, 'BEST_EPS'), (9, 'change_10day'), (8, 'SHORT_INT_RATIO'), (7, 'std_10day'), (6, 'SHORT_INT'), (5, 'PX_OFFICIAL_CLOSE'), (4, 'PX_TO_BOOK_RATIO'), (3, 'BEST_TARGET_PRICE'), (2, 'PE_RATIO'), (1, 'CUR_MKT_CAP')]"
      ],
      "execution_count": 0,
      "outputs": []
    }
  ]
}