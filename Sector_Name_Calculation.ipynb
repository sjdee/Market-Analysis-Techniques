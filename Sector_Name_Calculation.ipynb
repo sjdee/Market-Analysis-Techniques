{
  "nbformat": 4,
  "nbformat_minor": 0,
  "metadata": {
    "colab": {
      "name": "Sector Name Calculation.ipynb",
      "version": "0.3.2",
      "provenance": [],
      "collapsed_sections": [],
      "include_colab_link": true
    },
    "kernelspec": {
      "name": "python3",
      "display_name": "Python 3"
    },
    "accelerator": "GPU"
  },
  "cells": [
    {
      "cell_type": "markdown",
      "metadata": {
        "id": "view-in-github",
        "colab_type": "text"
      },
      "source": [
        "<a href=\"https://colab.research.google.com/github/sjdee/Market-Analysis-Techniques/blob/master/Sector_Name_Calculation.ipynb\" target=\"_parent\"><img src=\"https://colab.research.google.com/assets/colab-badge.svg\" alt=\"Open In Colab\"/></a>"
      ]
    },
    {
      "cell_type": "code",
      "metadata": {
        "id": "ezmA_DSkQJH6",
        "colab_type": "code",
        "colab": {}
      },
      "source": [
        "# https://towardsdatascience.com/multivariate-time-series-forecasting-using-random-forest-2372f3ecbad1\n",
        "# https://towardsdatascience.com/accuracy-recall-precision-f-score-specificity-which-to-optimize-on-867d3f11124\n",
        "\n",
        "!pip install -U -q PyDrive\n",
        "\n",
        "from pydrive.auth import GoogleAuth\n",
        "from pydrive.drive import GoogleDrive\n",
        "from google.colab import auth\n",
        "from oauth2client.client import GoogleCredentials\n",
        "\n",
        "# 1. Authenticate and create the PyDrive client.\n",
        "auth.authenticate_user()\n",
        "gauth = GoogleAuth()\n",
        "gauth.credentials = GoogleCredentials.get_application_default()\n",
        "drive = GoogleDrive(gauth)\n",
        "\n",
        "\n",
        "file_id = '1cO5QOtY1RkHX-a6etTf4h37XuE5QY4mW'\n",
        "\n",
        "# firms by sector\n",
        "file_id2 = '1wQZQ-ajhvtl89TANlcvxyp9F5ix0FXFq'\n",
        "\n",
        "# 2. Load a file by ID \n",
        "downloaded = drive.CreateFile({'id': file_id})\n",
        "downloaded.GetContentFile('sp500_transformation_input.xlsx')\n",
        "\n",
        "# 2. Load a file by ID \n",
        "downloaded2 = drive.CreateFile({'id': file_id2})\n",
        "downloaded2.GetContentFile('firm_names.xlsx')\n",
        "\n",
        "\n"
      ],
      "execution_count": 0,
      "outputs": []
    },
    {
      "cell_type": "code",
      "metadata": {
        "id": "O6SIehzCRoAx",
        "colab_type": "code",
        "colab": {}
      },
      "source": [
        "import pandas as pd\n",
        "\n",
        "df = pd.read_excel('sp500_transformation_input.xlsx')\n",
        "\n",
        "df2 = pd.read_excel('firm_names.xlsx')\n"
      ],
      "execution_count": 0,
      "outputs": []
    },
    {
      "cell_type": "code",
      "metadata": {
        "id": "ENKqU2jWTp7x",
        "colab_type": "code",
        "colab": {}
      },
      "source": [
        "df2"
      ],
      "execution_count": 0,
      "outputs": []
    },
    {
      "cell_type": "code",
      "metadata": {
        "id": "x6uI8Qe8TtNE",
        "colab_type": "code",
        "colab": {}
      },
      "source": [
        "df2['Ticker'] = df2['Ticker'].str.strip()\n",
        "\n",
        "df2_indexed = df2.set_index(\"Ticker\")\n",
        "df1_indexed = df.set_index(\"FIRM\")"
      ],
      "execution_count": 0,
      "outputs": []
    },
    {
      "cell_type": "code",
      "metadata": {
        "id": "mf0RnQj6nWxl",
        "colab_type": "code",
        "colab": {}
      },
      "source": [
        "# print(df2_indexed['Ticker'].unique())"
      ],
      "execution_count": 0,
      "outputs": []
    },
    {
      "cell_type": "code",
      "metadata": {
        "id": "etOfF9VZTsIO",
        "colab_type": "code",
        "colab": {}
      },
      "source": [
        "# get name of all firms\n",
        "bloomberg_firm_names = df['FIRM'].unique()\n",
        "\n",
        "\n",
        "# calculating number of firms in df2; should be 505\n",
        "number_of_firms = len(bloomberg_firm_names)\n",
        "\n",
        "\n",
        "# get firms from the bloomberg data\n",
        "for i in range(number_of_firms):\n",
        "    \n",
        "    # extract ticker name for the given firm  \n",
        "    ticker = bloomberg_firm_names[i].split(\" \")[0]\n",
        "    \n",
        "    \n",
        "    if('/' in ticker):\n",
        "      ticker = ticker.replace('/','.')\n",
        "\n",
        "\n",
        "    # print(bloomberg_firm_names[i])\n",
        "\n",
        "    \n",
        "    # for extracted ticker get its associated sector and firm name and set it to all the rows that have their FIRM column as the current firm\n",
        "    df.at[ df.loc[df['FIRM'] == bloomberg_firm_names[i]].index , 'Sector'] =   df2_indexed.loc[ticker]['Sector']\n",
        "    df.at[ df.loc[df['FIRM'] == bloomberg_firm_names[i]].index ,'Firm Name' ] = df2_indexed.loc[ticker]['Security Name']\n",
        "    "
      ],
      "execution_count": 0,
      "outputs": []
    },
    {
      "cell_type": "code",
      "metadata": {
        "id": "5koamyIPxoUt",
        "colab_type": "code",
        "colab": {}
      },
      "source": [
        "df.to_excel(\"output.xlsx\")"
      ],
      "execution_count": 0,
      "outputs": []
    }
  ]
}